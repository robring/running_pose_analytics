{
 "cells": [
  {
   "cell_type": "markdown",
   "metadata": {},
   "source": [
    "## Convert Videofiles\n",
    "convert all Videofiles (.MOV) into (.Mp4)\n",
    "The os-package enables an automation-filemanagement for this task "
   ]
  },
  {
   "cell_type": "code",
   "execution_count": 2,
   "metadata": {},
   "outputs": [
    {
     "name": "stdout",
     "output_type": "stream",
     "text": [
      "Gehen-1.MOV\n",
      "success: 0/3\n",
      "Gehen-2.MOV\n",
      "success: 1/3\n",
      "Laufen-9_hinten.mp4\n",
      "success: 2/3\n"
     ]
    }
   ],
   "source": [
    "import os\n",
    "files = os.listdir(os.getcwd()+\"/videos/\")\n",
    "\n",
    "for i, file in enumerate(files):\n",
    "    try:\n",
    "        print(file)\n",
    "        pre, ext = os.path.splitext(file)\n",
    "        os.rename(os.getcwd()+\"/videos/\"+file, os.getcwd()+\"/videos/\"+pre+\".mp4\")\n",
    "\n",
    "        print(f'success: {i}/{len(files)}')\n",
    "    except Exception as e:\n",
    "        print(\"except\", i)\n",
    "        print(e)\n",
    "        pass"
   ]
  },
  {
   "cell_type": "markdown",
   "metadata": {},
   "source": [
    "## Create Audiofiles\n",
    "Extracting the audios (.MAV) from the videofiles  and save them into an own directory"
   ]
  },
  {
   "cell_type": "code",
   "execution_count": 5,
   "metadata": {},
   "outputs": [
    {
     "name": "stdout",
     "output_type": "stream",
     "text": [
      "Gehen-2.mp4\n",
      "MoviePy - Writing audio in c:\\Users\\robin\\WI07_Repos\\running_pose_analytics/audios/Gehen-2.wav\n"
     ]
    },
    {
     "name": "stderr",
     "output_type": "stream",
     "text": [
      "                                                                     "
     ]
    },
    {
     "name": "stdout",
     "output_type": "stream",
     "text": [
      "MoviePy - Done.\n"
     ]
    },
    {
     "name": "stderr",
     "output_type": "stream",
     "text": [
      "\r"
     ]
    }
   ],
   "source": [
    "import moviepy.editor as mp\n",
    "import os\n",
    "\n",
    "videoFilesPath = os.getcwd()+\"/videos/\"\n",
    "videoFiles = os.listdir(videoFilesPath)\n",
    "audioFilesPath = os.getcwd()+\"/audios/\"\n",
    "for file in videoFiles:\n",
    "    pre, ext = os.path.splitext(file)\n",
    "    #print(file[-15:-4])\n",
    "    if pre in [\"Gehen-2\"]:\n",
    "        if not file[-15:-4] == \"geschnitten\":\n",
    "            print(file)\n",
    "            try:\n",
    "                my_clip = mp.VideoFileClip(videoFilesPath+file)\n",
    "                #print(my_clip.audio)\n",
    "                # my_clip = mp.VideoFileClip(video_Name_mov+\".mp4\")\n",
    "                #audio_frame = my_clip.audio.get_frame(500)\n",
    "                audio_frame = my_clip.audio.to_soundarray()\n",
    "                \n",
    "                my_clip.audio.write_audiofile(audioFilesPath+pre+\".wav\")\n",
    "                #audio_frame\n",
    "            except Exception as e:\n",
    "                print(e)\n",
    "                pass"
   ]
  },
  {
   "cell_type": "markdown",
   "metadata": {},
   "source": [
    "## Cut the Videofiles\n",
    "\n",
    "By anlyzing the soundarray of each videofile, we were able to detect the loudest marker, which was the clap we set on purpose to syncronsize the videos. The Goal is to map both perspectives of the same runner for the same paste. \n",
    "Again we're handling this with automation by writing a python script.  "
   ]
  },
  {
   "cell_type": "code",
   "execution_count": 9,
   "metadata": {},
   "outputs": [
    {
     "name": "stdout",
     "output_type": "stream",
     "text": [
      "Gehen-2\n",
      "AUDIO : Gehen-2\n",
      "2.2606575963718822\n",
      "90\n",
      "Width x Height of clip 1 :  1080 x  1920\n",
      "Moviepy - Building video c:\\Users\\robin\\WI07_Repos\\running_pose_analytics/videos/Gehen-2_geschnitten.mp4.\n",
      "MoviePy - Writing audio in Gehen-2_geschnittenTEMP_MPY_wvf_snd.mp3\n"
     ]
    },
    {
     "name": "stderr",
     "output_type": "stream",
     "text": [
      "                                                                     \r"
     ]
    },
    {
     "name": "stdout",
     "output_type": "stream",
     "text": [
      "MoviePy - Done.\n",
      "Moviepy - Writing video c:\\Users\\robin\\WI07_Repos\\running_pose_analytics/videos/Gehen-2_geschnitten.mp4\n",
      "\n"
     ]
    },
    {
     "name": "stderr",
     "output_type": "stream",
     "text": [
      "                                                                \r"
     ]
    },
    {
     "name": "stdout",
     "output_type": "stream",
     "text": [
      "Moviepy - Done !\n",
      "Moviepy - video ready c:\\Users\\robin\\WI07_Repos\\running_pose_analytics/videos/Gehen-2_geschnitten.mp4\n",
      "3132423 /60\n"
     ]
    }
   ],
   "source": [
    "import soundfile as sf\n",
    "import numpy as np\n",
    "import matplotlib.pyplot as plt\n",
    "from pydub import AudioSegment\n",
    "from pydub.playback import play\n",
    "from datetime import datetime\n",
    "from multiprocessing import Process\n",
    "from moviepy.editor import *\n",
    "\n",
    "videoFilesPath = os.getcwd()+\"/videos/\"\n",
    "videoFiles = os.listdir(videoFilesPath)\n",
    "\n",
    "audioFilesPath = os.getcwd()+\"/audios/\"\n",
    "audioFiles = os.listdir(audioFilesPath)\n",
    "#myfile = 'filename.txt'\n",
    "for i, fileName in enumerate(audioFiles):\n",
    "    preAudio, ext = os.path.splitext(fileName)\n",
    "    #print(pre)\n",
    "    if preAudio in [\"Gehen-2\"]:\n",
    "        print(preAudio)\n",
    "        #print(\"hsbxshbhsb\",preAudio[-11:])\n",
    "        if not preAudio[-11:] == \"geschnitten\":\n",
    "\n",
    "            print(\"AUDIO :\", preAudio)\n",
    "            file = audioFilesPath+fileName\n",
    "            try:\n",
    "                # Retrieve the data from the wav file\n",
    "                data, samplerate = sf.read(file)\n",
    "\n",
    "                n = len(data)  # the length of the arrays contained in data\n",
    "                Fs = samplerate  # the sample rate\n",
    "\n",
    "                # Working with stereo audio, there are two channels in the audio data.\n",
    "                # Let's retrieve each channel seperately:\n",
    "                ch1 = np.array([data[i][0] for i in range(n)])  # channel 1\n",
    "                ch2 = np.array([data[i][1] for i in range(n)])  # channel 2\n",
    "                # x-axis and y-axis to plot the audio data\n",
    "\n",
    "                time_axis = np.linspace(0, n / Fs, n, endpoint=False)\n",
    "                sound_axis = ch1 #we only focus on the first channel here\n",
    "                # print(n)\n",
    "                # print(samplerate)\n",
    "\n",
    "                max_value = -9999999\n",
    "                i = 0\n",
    "                max_pos = 0\n",
    "                for sound in sound_axis:\n",
    "                    if sound>max_value:\n",
    "                        max_value = sound\n",
    "                        max_pos= i+1\n",
    "                    i += 1\n",
    "                # print(\"MAX_VALUE:\", max_value)\n",
    "                # print(\"MAX_POS:\", max_pos/44100)\n",
    "                seconds_start = max_pos/44100\n",
    "                print(seconds_start)\n",
    "\n",
    "                for fileName_v in videoFiles:\n",
    "                    preVideo, ext = os.path.splitext(fileName_v)\n",
    "                    #print(\"VIDEO: \", preVideo)\n",
    "                    if preAudio == preVideo:\n",
    "                        file = videoFilesPath+fileName_v\n",
    "                        try:\n",
    "                            # loading video gfg\n",
    "                            clip = VideoFileClip(file) # resize (keep aspect ratio))\n",
    "                            print(clip.rotation)\n",
    "                            if clip.rotation == 90:\n",
    "                                clip = clip.resize(clip.size[::-1])\n",
    "                                clip.rotation = 0\n",
    "\n",
    "                            w1 = clip.w\n",
    "                            h1 = clip.h\n",
    "                            print(\"Width x Height of clip 1 : \", end = \" \")\n",
    "                            print(str(w1) + \" x \", str(h1))\n",
    "\n",
    "                            # getting only first 5 seconds\n",
    "                            clip = clip.subclip(seconds_start, 60+seconds_start)\n",
    "\n",
    "                            w1 = clip.w\n",
    "                            h1 = clip.h\n",
    "                            clip.write_videofile(file.split(\".\")[0]+\"_geschnitten.mp4\")\n",
    "\n",
    "                        except Exception as e:\n",
    "                            print(e)\n",
    "                print(f'{i} /{len(audioFiles)}')\n",
    "            except Exception as e:\n",
    "                print(e)"
   ]
  }
 ],
 "metadata": {
  "interpreter": {
   "hash": "49d1cf207c92197553c1326cc52484d1ee2809997f5109c15474876a3e083b6e"
  },
  "kernelspec": {
   "display_name": "Python 3.9.7 ('base')",
   "language": "python",
   "name": "python3"
  },
  "language_info": {
   "codemirror_mode": {
    "name": "ipython",
    "version": 3
   },
   "file_extension": ".py",
   "mimetype": "text/x-python",
   "name": "python",
   "nbconvert_exporter": "python",
   "pygments_lexer": "ipython3",
   "version": "3.9.7"
  },
  "orig_nbformat": 4
 },
 "nbformat": 4,
 "nbformat_minor": 2
}
