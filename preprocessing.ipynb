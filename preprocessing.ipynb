{
 "cells": [
  {
   "cell_type": "code",
   "execution_count": 1,
   "metadata": {},
   "outputs": [],
   "source": [
    "import os\n",
    "import pandas as pd\n",
    "import numpy as np"
   ]
  },
  {
   "cell_type": "markdown",
   "metadata": {},
   "source": [
    "## Get Data\n",
    "* Reading Data from all csv Files and save it to multiple Dataframes. \n",
    "* Storing every df into a Dictionary for further purposes"
   ]
  },
  {
   "cell_type": "code",
   "execution_count": 2,
   "metadata": {},
   "outputs": [],
   "source": [
    "df_dict_all = {}\n",
    "\n",
    "csvFilesPath = os.getcwd()+\"/csv_files/\"\n",
    "csvFiles = os.listdir(csvFilesPath)\n",
    "\n",
    "for fileName in csvFiles:\n",
    "    #print(fileName)\n",
    "    pre, ext = os.path.splitext(fileName)\n",
    "    file = csvFilesPath + fileName\n",
    "\n",
    "    df = pd.read_csv(file)\n",
    "    #df = pd.DataFrame(data=file)\n",
    "    df_dict_all[pre] = df\n",
    "    if len(df) < 1798:\n",
    "        print(pre)\n",
    "\n",
    "#print(f'{len(df_dict_all)} DataFrames')"
   ]
  },
  {
   "cell_type": "code",
   "execution_count": null,
   "metadata": {},
   "outputs": [],
   "source": []
  }
 ],
 "metadata": {
  "interpreter": {
   "hash": "49d1cf207c92197553c1326cc52484d1ee2809997f5109c15474876a3e083b6e"
  },
  "kernelspec": {
   "display_name": "Python 3.9.7 ('base')",
   "language": "python",
   "name": "python3"
  },
  "language_info": {
   "codemirror_mode": {
    "name": "ipython",
    "version": 3
   },
   "file_extension": ".py",
   "mimetype": "text/x-python",
   "name": "python",
   "nbconvert_exporter": "python",
   "pygments_lexer": "ipython3",
   "version": "3.9.7"
  },
  "orig_nbformat": 4
 },
 "nbformat": 4,
 "nbformat_minor": 2
}
